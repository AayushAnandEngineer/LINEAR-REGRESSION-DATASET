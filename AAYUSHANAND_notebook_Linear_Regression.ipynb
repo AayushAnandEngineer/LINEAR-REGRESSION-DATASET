{
 "cells": [
  {
   "cell_type": "code",
   "execution_count": 3,
   "metadata": {},
   "outputs": [],
   "source": [
    "import numpy as np\n",
    "from sklearn import linear_model\n",
    "import pandas as pd\n",
    "\n",
    "data_train=np.genfromtxt('0000000000002329_training_diabetes_x_y_train.csv',delimiter=',')\n",
    "data_test=np.genfromtxt('0000000000002329_test_diabetes_x_test.csv',delimiter=',')\n",
    "\n",
    "data=pd.DataFrame(data_train)\n",
    "X_train=data.iloc[:,:-1]\n",
    "Y_train=data.iloc[:,-1]\n",
    "\n",
    "algo=linear_model.LinearRegression()\n",
    "algo.fit(X_train,Y_train)\n",
    "\n",
    "predicted_value=algo.predict(data_test)\n",
    "for i in range(len(predicted_value)):\n",
    "    predicted_value[i]='{0:.5f}'.format(predicted_value[i])\n",
    "predicted_value=pd.DataFrame(predicted_value)\n",
    "\n",
    "predicted_value.columns=['predictions']\n",
    "\n",
    "\n",
    "np.savetxt('submit1.csv',predicted_value,fmt=\"%0.5f\",delimiter=',')\n"
   ]
  },
  {
   "cell_type": "code",
   "execution_count": null,
   "metadata": {},
   "outputs": [],
   "source": [
    "\n"
   ]
  }
 ],
 "metadata": {
  "kernelspec": {
   "display_name": "Python 3",
   "language": "python",
   "name": "python3"
  },
  "language_info": {
   "codemirror_mode": {
    "name": "ipython",
    "version": 3
   },
   "file_extension": ".py",
   "mimetype": "text/x-python",
   "name": "python",
   "nbconvert_exporter": "python",
   "pygments_lexer": "ipython3",
   "version": "3.8.0"
  }
 },
 "nbformat": 4,
 "nbformat_minor": 2
}
